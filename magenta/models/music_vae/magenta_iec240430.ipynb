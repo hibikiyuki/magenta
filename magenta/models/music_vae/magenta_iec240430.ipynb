{
 "cells": [
  {
   "cell_type": "code",
   "execution_count": null,
   "metadata": {},
   "outputs": [],
   "source": [
    "script_path = 'magenta\\models\\music_vae\\music_vae_generate.py'\n",
    "model_config = 'cat-mel_2bar_big'\n",
    "checkpoint_path = 'checkpoints\\cat-mel_2bar_big.tar'"
   ]
  },
  {
   "cell_type": "code",
   "execution_count": null,
   "metadata": {},
   "outputs": [],
   "source": [
    "import subprocess\n",
    "import os\n",
    "\n",
    "# 実行したいスクリプトのファイル名\n",
    "script_path = 'magenta\\models\\music_vae\\music_vae_generate.py'\n",
    "\n",
    "# スクリプトに渡したい引数のリスト\n",
    "args = [\n",
    "    '--config=cat-mel_2bar_big',\n",
    "    '--checkpoint_file=checkpoints\\cat-mel_2bar_big.tar',\n",
    "    '--mode=sample',\n",
    "    '--num_outputs=4',\n",
    "    '--output_dir=tmp\\music_vae\\generated\\iec240430\\gen1_mid'\n",
    "]\n",
    "\n",
    "# subprocess.runを使用してスクリプトを実行\n",
    "# 引数はリストの形で渡す\n",
    "result = subprocess.run(['python', script_path] + args, cwd=os.getcwd(), capture_output=True, text=True)\n",
    "\n",
    "# 実行結果の出力\n",
    "print('stdout:', result.stdout)\n",
    "print('stderr:', result.stderr)"
   ]
  },
  {
   "cell_type": "code",
   "execution_count": null,
   "metadata": {},
   "outputs": [],
   "source": [
    "import save_latent_vectors\n",
    "\n",
    "directory = 'tmp\\music_vae\\generated\\iec240430\\gen1_mid'\n",
    "output_directory = 'tmp\\music_vae\\generated\\iec240430\\gen1_vectors'\n",
    "model_config = 'cat-mel_2bar_big'\n",
    "checkpoint_path = 'checkpoints\\cat-mel_2bar_big.tar'\n",
    "save_latent_vectors.save_latent_vectors(directory, output_directory, model_config, checkpoint_path)"
   ]
  },
  {
   "cell_type": "code",
   "execution_count": null,
   "metadata": {},
   "outputs": [],
   "source": [
    "import pygame\n",
    "import os\n",
    "import time\n",
    "\n",
    "# pygameの初期化\n",
    "pygame.init()\n",
    "pygame.mixer.init()\n",
    "\n",
    "def play_midi(file_path):\n",
    "    \"\"\"指定されたパスのMIDIファイルを再生する関数\"\"\"\n",
    "    try:\n",
    "        pygame.mixer.music.load(file_path)\n",
    "        print(f\"Playing {file_path}...\")\n",
    "        pygame.mixer.music.play()\n",
    "        while pygame.mixer.music.get_busy():\n",
    "            pygame.time.Clock().tick(10)\n",
    "    except Exception as e:\n",
    "        print(f\"Failed to play {file_path}: {e}\")\n",
    "\n",
    "def play_folder(folder_path):\n",
    "    \"\"\"フォルダ内のすべてのMIDIファイルを再生する\"\"\"\n",
    "    # フォルダ内のファイルをリストアップ\n",
    "    files = [f for f in os.listdir(folder_path) if f.endswith('.mid')]\n",
    "    # 各ファイルを再生\n",
    "    for file in files:\n",
    "        file_path = os.path.join(folder_path, file)\n",
    "        play_midi(file_path)\n",
    "        time.sleep(1)  # ファイル間に短い休止\n",
    "\n",
    "# フォルダパスを指定\n",
    "folder_path = 'tmp\\music_vae\\generated\\iec240430\\gen1_mid'\n",
    "play_folder(folder_path)\n",
    "# pygameの終了処理\n",
    "pygame.quit()"
   ]
  },
  {
   "cell_type": "code",
   "execution_count": null,
   "metadata": {},
   "outputs": [],
   "source": [
    "import numpy as np\n",
    "\n",
    "# 選択関数（ルーレット選択）\n",
    "def select_parents(arrays, scores):\n",
    "    probability_distribution = scores / scores.sum()\n",
    "    parents_indices = np.random.choice(len(arrays), size=2, p=probability_distribution, replace=False)\n",
    "    return arrays[parents_indices[0]], arrays[parents_indices[1]]\n",
    "\n",
    "# 交叉関数（一点交叉）\n",
    "def crossover(parent1, parent2):\n",
    "    crossover_point = np.random.randint(1, parent1.shape[1])  # 交叉点をランダムに選択\n",
    "    child1 = np.hstack((parent1[:, :crossover_point], parent2[:, crossover_point:]))\n",
    "    child2 = np.hstack((parent2[:, :crossover_point], parent1[:, crossover_point:]))\n",
    "    return child1, child2\n",
    "\n",
    "# 突然変異関数\n",
    "def mutate(array, mutation_rate=0.01):\n",
    "    mutation_mask = np.random.rand(1, array.shape[1]) < mutation_rate\n",
    "    array[mutation_mask] = np.random.rand(np.sum(mutation_mask))\n",
    "    return array\n",
    "\n",
    "# 遺伝的アルゴリズムの実行\n",
    "def genetic_algorithm(arrays, scores, mutation_rate=0.01):\n",
    "    # 親の選択\n",
    "    parent1, parent2 = select_parents(arrays, scores)\n",
    "    \n",
    "    # 交叉\n",
    "    child1, child2 = crossover(parent1, parent2)\n",
    "    \n",
    "    # 突然変異\n",
    "    child1 = mutate(child1, mutation_rate)\n",
    "    child2 = mutate(child2, mutation_rate)\n",
    "    \n",
    "    return child1, child2"
   ]
  },
  {
   "cell_type": "code",
   "execution_count": null,
   "metadata": {},
   "outputs": [],
   "source": [
    "import glob\n",
    "\n",
    "# ユーザがMIDIを評価する\n",
    "scores = np.array([1, 3, 2, 5])\n",
    "\n",
    "npy_path = 'tmp\\music_vae\\generated\\iec240430\\gen1_vectors'\n",
    "npy_files = glob.glob(os.path.join(npy_path, '*.npy'))\n",
    "arrays = [np.load(file) for file in npy_files]\n",
    "\n",
    "# アルゴリズムの実行\n",
    "child1, child2 = genetic_algorithm(arrays, scores)\n",
    "child3, child4 = genetic_algorithm(arrays, scores)\n",
    "\n",
    "# 結果の表示\n",
    "print(\"Child 1:\\n\", child1)\n",
    "print(\"Child 2:\\n\", child2)\n",
    "print(\"Child 3:\\n\", child3)\n",
    "print(\"Child 4:\\n\", child4)\n",
    "\n",
    "output_new_z = 'tmp\\music_vae\\generated\\iec240430\\gen2_parents'\n",
    "np.save(output_new_z+'\\\\01.npy', np.reshape(child1, (512,)))\n",
    "np.save(output_new_z+'\\\\02.npy', np.reshape(child2, (512,)))\n",
    "np.save(output_new_z+'\\\\03.npy', np.reshape(child3, (512,)))\n",
    "np.save(output_new_z+'\\\\04.npy', np.reshape(child4, (512,)))\n"
   ]
  },
  {
   "cell_type": "code",
   "execution_count": null,
   "metadata": {},
   "outputs": [],
   "source": [
    "# 実行したいスクリプトのファイル名\n",
    "script_path = 'magenta\\models\\music_vae\\music_vae_generate.py'\n",
    "\n",
    "# スクリプトに渡したい引数のリスト\n",
    "args = [\n",
    "    '--config=cat-mel_2bar_big',\n",
    "    '--checkpoint_file=checkpoints\\cat-mel_2bar_big.tar',\n",
    "    '--mode=vectors',\n",
    "    '--vectors_dir=tmp\\music_vae\\generated\\iec240430\\gen2_parents',\n",
    "    '--output_dir=tmp\\music_vae\\generated\\iec240430\\gen2_mid'\n",
    "]\n",
    "\n",
    "# subprocess.runを使用してスクリプトを実行\n",
    "# 引数はリストの形で渡す\n",
    "result = subprocess.run(['python', script_path] + args, cwd=os.getcwd(), capture_output=True, text=True)\n",
    "\n",
    "# 実行結果の出力\n",
    "print('stdout:', result.stdout)\n",
    "print('stderr:', result.stderr)"
   ]
  },
  {
   "cell_type": "code",
   "execution_count": 33,
   "metadata": {},
   "outputs": [
    {
     "name": "stdout",
     "output_type": "stream",
     "text": [
      "Playing tmp\\music_vae\\generated\\iec240430\\gen2_mid\\cat-mel_2bar_big_vectors_2024-04-30_104736-000-of-005.mid...\n",
      "Playing tmp\\music_vae\\generated\\iec240430\\gen2_mid\\cat-mel_2bar_big_vectors_2024-04-30_104736-001-of-005.mid...\n",
      "Playing tmp\\music_vae\\generated\\iec240430\\gen2_mid\\cat-mel_2bar_big_vectors_2024-04-30_104736-002-of-005.mid...\n",
      "Playing tmp\\music_vae\\generated\\iec240430\\gen2_mid\\cat-mel_2bar_big_vectors_2024-04-30_104736-003-of-005.mid...\n"
     ]
    }
   ],
   "source": [
    "# pygameの初期化\n",
    "pygame.init()\n",
    "pygame.mixer.init()\n",
    "\n",
    "# フォルダパスを指定\n",
    "folder_path = 'tmp\\music_vae\\generated\\iec240430\\gen2_mid'\n",
    "play_folder(folder_path)\n",
    "# pygameの終了処理\n",
    "pygame.quit()"
   ]
  }
 ],
 "metadata": {
  "kernelspec": {
   "display_name": "magenta-dev",
   "language": "python",
   "name": "python3"
  },
  "language_info": {
   "codemirror_mode": {
    "name": "ipython",
    "version": 3
   },
   "file_extension": ".py",
   "mimetype": "text/x-python",
   "name": "python",
   "nbconvert_exporter": "python",
   "pygments_lexer": "ipython3",
   "version": "3.8.19"
  }
 },
 "nbformat": 4,
 "nbformat_minor": 2
}
